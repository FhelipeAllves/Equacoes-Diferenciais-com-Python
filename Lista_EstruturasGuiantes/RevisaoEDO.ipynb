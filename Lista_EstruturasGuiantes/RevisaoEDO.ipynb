{
 "cells": [
  {
   "cell_type": "code",
   "execution_count": null,
   "id": "ee7ec0d7",
   "metadata": {},
   "outputs": [],
   "source": [
    "import sympy as sp\n",
    "from numpy import linspace\n",
    "import matplotlib.pyplot as plt\n",
    "\n",
    "#Definição global da variável 't' e da função 'y'\n",
    "t = sp.symbols('t')\n",
    "y = sp.Function('y')(t)"
   ]
  },
  {
   "attachments": {
    "image.png": {
     "image/png": "[encoded data removed]"
    }
   },
   "cell_type": "markdown",
   "id": "af907084",
   "metadata": {},
   "source": [
    "![image.png](attachment:image.png)"
   ]
  },
  {
   "cell_type": "code",
   "execution_count": 7,
   "id": "af49fda5",
   "metadata": {},
   "outputs": [
    {
     "data": {
      "text/latex": [
       "$\\displaystyle - 9 y{\\left(t \\right)} + 8 \\frac{d}{d t} y{\\left(t \\right)} + \\frac{d^{2}}{d t^{2}} y{\\left(t \\right)} = 0$"
      ],
      "text/plain": [
       "Eq(-9*y(t) + 8*Derivative(y(t), t) + Derivative(y(t), (t, 2)), 0)"
      ]
     },
     "metadata": {},
     "output_type": "display_data"
    },
    {
     "name": "stdout",
     "output_type": "stream",
     "text": [
      "Solução:\n"
     ]
    },
    {
     "data": {
      "text/latex": [
       "$\\displaystyle y{\\left(t \\right)} = C_{1} e^{- 9 t} + C_{2} e^{t}$"
      ],
      "text/plain": [
       "Eq(y(t), C1*exp(-9*t) + C2*exp(t))"
      ]
     },
     "metadata": {},
     "output_type": "display_data"
    }
   ],
   "source": [
    "eq = sp.Eq(y.diff(t, t) + 8*y.diff(t) - 9*y, 0)\n",
    "\n",
    "display(eq)\n",
    "print('Solução:')\n",
    "display(sp.dsolve(eq))"
   ]
  },
  {
   "cell_type": "code",
   "execution_count": 9,
   "id": "ffdd991c",
   "metadata": {},
   "outputs": [
    {
     "data": {
      "text/latex": [
       "$\\displaystyle 25 y{\\left(t \\right)} - 30 \\frac{d}{d t} y{\\left(t \\right)} + 9 \\frac{d^{2}}{d t^{2}} y{\\left(t \\right)} = 0$"
      ],
      "text/plain": [
       "Eq(25*y(t) - 30*Derivative(y(t), t) + 9*Derivative(y(t), (t, 2)), 0)"
      ]
     },
     "metadata": {},
     "output_type": "display_data"
    },
    {
     "name": "stdout",
     "output_type": "stream",
     "text": [
      "Solução:\n"
     ]
    },
    {
     "data": {
      "text/latex": [
       "$\\displaystyle y{\\left(t \\right)} = \\left(C_{1} + C_{2} t\\right) e^{\\frac{5 t}{3}}$"
      ],
      "text/plain": [
       "Eq(y(t), (C1 + C2*t)*exp(5*t/3))"
      ]
     },
     "metadata": {},
     "output_type": "display_data"
    }
   ],
   "source": [
    "eq = sp.Eq(9*y.diff(t, t) - 30*y.diff(t) + 25*y, 0)\n",
    "\n",
    "display(eq)\n",
    "print('Solução:')\n",
    "display(sp.dsolve(eq))"
   ]
  },
  {
   "cell_type": "code",
   "execution_count": 12,
   "id": "04dc45ee",
   "metadata": {},
   "outputs": [
    {
     "data": {
      "text/latex": [
       "$\\displaystyle 16 y{\\left(t \\right)} + \\frac{d^{2}}{d t^{2}} y{\\left(t \\right)} = t e^{t}$"
      ],
      "text/plain": [
       "Eq(16*y(t) + Derivative(y(t), (t, 2)), t*exp(t))"
      ]
     },
     "metadata": {},
     "output_type": "display_data"
    },
    {
     "name": "stdout",
     "output_type": "stream",
     "text": [
      "Solução:\n"
     ]
    },
    {
     "data": {
      "text/latex": [
       "$\\displaystyle y{\\left(t \\right)} = C_{1} \\sin{\\left(4 t \\right)} + C_{2} \\cos{\\left(4 t \\right)} + \\frac{t e^{t}}{17} - \\frac{2 e^{t}}{289}$"
      ],
      "text/plain": [
       "Eq(y(t), C1*sin(4*t) + C2*cos(4*t) + t*exp(t)/17 - 2*exp(t)/289)"
      ]
     },
     "metadata": {},
     "output_type": "display_data"
    }
   ],
   "source": [
    "eq = sp.Eq(y.diff(t, t) + 16*y, t*sp.exp(t))\n",
    "\n",
    "display(eq)\n",
    "print('Solução:')\n",
    "display(sp.dsolve(eq))"
   ]
  },
  {
   "cell_type": "code",
   "execution_count": 13,
   "id": "06873853",
   "metadata": {},
   "outputs": [
    {
     "data": {
      "text/latex": [
       "$\\displaystyle 3 y{\\left(t \\right)} + 5 \\frac{d}{d t} y{\\left(t \\right)} + 3 \\frac{d^{2}}{d t^{2}} y{\\left(t \\right)} + \\frac{d^{3}}{d t^{3}} y{\\left(t \\right)} = 0$"
      ],
      "text/plain": [
       "Eq(3*y(t) + 5*Derivative(y(t), t) + 3*Derivative(y(t), (t, 2)) + Derivative(y(t), (t, 3)), 0)"
      ]
     },
     "metadata": {},
     "output_type": "display_data"
    },
    {
     "name": "stdout",
     "output_type": "stream",
     "text": [
      "Solução:\n"
     ]
    },
    {
     "data": {
      "text/latex": [
       "$\\displaystyle y{\\left(t \\right)} = \\left(C_{1} + C_{2} \\sin{\\left(\\sqrt{2} t \\right)} + C_{3} \\cos{\\left(\\sqrt{2} t \\right)}\\right) e^{- t}$"
      ],
      "text/plain": [
       "Eq(y(t), (C1 + C2*sin(sqrt(2)*t) + C3*cos(sqrt(2)*t))*exp(-t))"
      ]
     },
     "metadata": {},
     "output_type": "display_data"
    }
   ],
   "source": [
    "eq = sp.Eq(y.diff(t, t, t) + 3*y.diff(t, t) + 5*y.diff(t) + 3*y, 0)\n",
    "\n",
    "display(eq)\n",
    "print('Solução:')\n",
    "display(sp.dsolve(eq))"
   ]
  },
  {
   "attachments": {
    "image.png": {
     "image/png": "[encoded data removed]"
    }
   },
   "cell_type": "markdown",
   "id": "e7a33f9d",
   "metadata": {},
   "source": [
    "![image.png](attachment:image.png)"
   ]
  },
  {
   "cell_type": "code",
   "execution_count": 17,
   "id": "7f7b1b8c",
   "metadata": {},
   "outputs": [
    {
     "data": {
      "text/latex": [
       "$\\displaystyle 7 y{\\left(t \\right)} + 4 \\frac{d}{d t} y{\\left(t \\right)} + \\frac{d^{2}}{d t^{2}} y{\\left(t \\right)} = 0$"
      ],
      "text/plain": [
       "Eq(7*y(t) + 4*Derivative(y(t), t) + Derivative(y(t), (t, 2)), 0)"
      ]
     },
     "metadata": {},
     "output_type": "display_data"
    },
    {
     "name": "stdout",
     "output_type": "stream",
     "text": [
      "Solução\n"
     ]
    },
    {
     "data": {
      "text/latex": [
       "$\\displaystyle y{\\left(t \\right)} = e^{- 2 t} \\cos{\\left(\\sqrt{3} t \\right)}$"
      ],
      "text/plain": [
       "Eq(y(t), exp(-2*t)*cos(sqrt(3)*t))"
      ]
     },
     "metadata": {},
     "output_type": "display_data"
    }
   ],
   "source": [
    "#Resolução de EDO com conduções inicais\n",
    "eq = sp.Eq(y.diff(t, t) + 4*y.diff(t) + 7*y, 0)\n",
    "\n",
    "pvi = {y.subs(t, 0): 1, y.diff(t).subs(t, 0): -2}\n",
    "\n",
    "func = sp.dsolve(eq, ics=pvi)\n",
    "\n",
    "display(eq)\n",
    "print('Solução')\n",
    "display(func)\n"
   ]
  },
  {
   "cell_type": "code",
   "execution_count": 36,
   "id": "414c457d",
   "metadata": {},
   "outputs": [
    {
     "data": {
      "text/latex": [
       "$\\displaystyle \\left(- 8.43095439718685 \\sin{\\left(1.66 t \\right)} - 2.47566536737794 \\cos{\\left(1.66 t \\right)}\\right) e^{- 1.19 t} - 0.524334632622058 e^{- 9.63 t}$"
      ],
      "text/plain": [
       "(-8.43095439718685*sin(1.66*t) - 2.47566536737794*cos(1.66*t))*exp(-1.19*t) - 0.524334632622058*exp(-9.63*t)"
      ]
     },
     "metadata": {},
     "output_type": "display_data"
    }
   ],
   "source": [
    "C1, C2, C3 = sp.symbols('C1 C2 C3')\n",
    "\n",
    "sol = sp.exp(-1.19*t)*(C1*sp.cos(1.66*t) + C2*sp.sin(1.66*t)) + C3*sp.exp(-9.63*t)\n",
    "\n",
    "sol_d1 = sp.diff(sol, t)\n",
    "sol_d2 = sp.diff(sol_d1, t)\n",
    "\n",
    "# PVI\n",
    "eq1 = sol.subs(t,0) + 3  \n",
    "eq2 = sol_d1.subs(t,0) + 6 \n",
    "eq3 = sol_d2.subs(t,0) + 12 \n",
    "\n",
    "constantes = sp.solve([eq1, eq2, eq3], (C1, C2, C3))\n",
    "\n",
    "sol_final = sol.subs(constantes)\n",
    "display((sol_final))"
   ]
  },
  {
   "attachments": {
    "image.png": {
     "image/png": "[encoded data removed]"
    }
   },
   "cell_type": "markdown",
   "id": "aa0f3515",
   "metadata": {},
   "source": [
    "![image.png](attachment:image.png)"
   ]
  },
  {
   "cell_type": "code",
   "execution_count": 43,
   "id": "e4b8b6e0",
   "metadata": {},
   "outputs": [
    {
     "data": {
      "text/latex": [
       "$\\displaystyle 8 y{\\left(t \\right)} + \\frac{d^{3}}{d t^{3}} y{\\left(t \\right)} = 2 t - 5 + 8 e^{- 2 t}$"
      ],
      "text/plain": [
       "Eq(8*y(t) + Derivative(y(t), (t, 3)), 2*t - 5 + 8*exp(-2*t))"
      ]
     },
     "metadata": {},
     "output_type": "display_data"
    },
    {
     "name": "stdout",
     "output_type": "stream",
     "text": [
      "Solução\n"
     ]
    },
    {
     "data": {
      "text/latex": [
       "$\\displaystyle y{\\left(t \\right)} = \\frac{t}{4} + \\left(\\frac{2 t}{3} - \\frac{23}{12}\\right) e^{- 2 t} + \\left(\\frac{17 \\sqrt{3} \\sin{\\left(\\sqrt{3} t \\right)}}{72} - \\frac{59 \\cos{\\left(\\sqrt{3} t \\right)}}{24}\\right) e^{t} - \\frac{5}{8}$"
      ],
      "text/plain": [
       "Eq(y(t), t/4 + (2*t/3 - 23/12)*exp(-2*t) + (17*sqrt(3)*sin(sqrt(3)*t)/72 - 59*cos(sqrt(3)*t)/24)*exp(t) - 5/8)"
      ]
     },
     "metadata": {},
     "output_type": "display_data"
    }
   ],
   "source": [
    "eq = sp.Eq(y.diff(t, t, t) + 8*y, 2*t -5 + 8*sp.exp(-2*t))\n",
    "\n",
    "pvi = {y.subs(t, 0): -5, y.diff(t).subs(t, 0): 3, y.diff(t, t).subs(t, 0): -4}\n",
    "\n",
    "func = sp.dsolve(eq, ics=pvi)\n",
    "\n",
    "display(eq)\n",
    "print('Solução')\n",
    "display(func)\n"
   ]
  }
 ],
 "metadata": {
  "kernelspec": {
   "display_name": "Python 3",
   "language": "python",
   "name": "python3"
  },
  "language_info": {
   "codemirror_mode": {
    "name": "ipython",
    "version": 3
   },
   "file_extension": ".py",
   "mimetype": "text/x-python",
   "name": "python",
   "nbconvert_exporter": "python",
   "pygments_lexer": "ipython3",
   "version": "3.12.3"
  }
 },
 "nbformat": 4,
 "nbformat_minor": 5
}
