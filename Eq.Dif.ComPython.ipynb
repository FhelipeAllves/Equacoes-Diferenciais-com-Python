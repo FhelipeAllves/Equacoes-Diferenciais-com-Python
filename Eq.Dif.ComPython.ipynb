{
 "cells": [
  {
   "cell_type": "code",
   "execution_count": 3,
   "metadata": {},
   "outputs": [],
   "source": [
    "#EQUAÇÕES DIFERENCIAIS COM SYMPY\n",
    "import sympy as sp\n",
    "from numpy import linspace\n",
    "import matplotlib.pyplot as plt\n",
    "from IPython.display import display\n",
    "\n",
    "#Definição global da variável 'x' e da função 'y'\n",
    "x = sp.symbols('x')\n",
    "y = sp.Function('y')(x)"
   ]
  },
  {
   "cell_type": "code",
   "execution_count": 4,
   "metadata": {},
   "outputs": [
    {
     "data": {
      "text/latex": [
       "$\\displaystyle 2 y{\\left(x \\right)} - 3 \\frac{d}{d x} y{\\left(x \\right)} + \\frac{d^{2}}{d x^{2}} y{\\left(x \\right)} = 0$"
      ],
      "text/plain": [
       "Eq(2*y(x) - 3*Derivative(y(x), x) + Derivative(y(x), (x, 2)), 0)"
      ]
     },
     "metadata": {},
     "output_type": "display_data"
    },
    {
     "name": "stdout",
     "output_type": "stream",
     "text": [
      "\n"
     ]
    },
    {
     "data": {
      "text/latex": [
       "$\\displaystyle y{\\left(x \\right)} = \\left(C_{1} + C_{2} e^{x}\\right) e^{x}$"
      ],
      "text/plain": [
       "Eq(y(x), (C1 + C2*exp(x))*exp(x))"
      ]
     },
     "metadata": {},
     "output_type": "display_data"
    }
   ],
   "source": [
    "eq = sp.Eq(y.diff(x, x) - 3*y.diff(x) + 2*y, 0)\n",
    "\n",
    "display(eq)\n",
    "print()\n",
    "display(sp.dsolve(eq))"
   ]
  },
  {
   "cell_type": "code",
   "execution_count": 5,
   "metadata": {},
   "outputs": [
    {
     "data": {
      "text/latex": [
       "$\\displaystyle y{\\left(x \\right)} = \\left(1 - e^{x}\\right) e^{x}$"
      ],
      "text/plain": [
       "Eq(y(x), (1 - exp(x))*exp(x))"
      ]
     },
     "metadata": {},
     "output_type": "display_data"
    },
    {
     "data": {
      "image/png": "[encoded data removed]",
      "text/plain": [
       "<Figure size 1000x600 with 1 Axes>"
      ]
     },
     "metadata": {},
     "output_type": "display_data"
    }
   ],
   "source": [
    "#Resolução de EDO com conduções inicais\n",
    "eq = sp.Eq(y.diff(x, x) - 3*y.diff(x) + 2*y, 0)\n",
    "\n",
    "pvi = {y.subs(x, 0): 0, y.diff(x).subs(x, 0): -1}\n",
    "\n",
    "func = sp.dsolve(eq, ics=pvi)\n",
    "\n",
    "display(func)\n",
    "\n",
    "func = func.rhs\n",
    "func_num = sp.lambdify(x, func, 'numpy')\n",
    "x_num = linspace(0, 10, 400)\n",
    "func_num = func_num(x_num)\n",
    "\n",
    "plt.figure(figsize=(10,6))\n",
    "plt.plot(x_num, func_num, label=('y(x)'))\n",
    "plt.grid(True)\n",
    "plt.legend(loc='best', fontsize=12)\n",
    "plt.show()\n"
   ]
  },
  {
   "cell_type": "code",
   "execution_count": 6,
   "metadata": {},
   "outputs": [
    {
     "data": {
      "text/latex": [
       "$\\displaystyle y{\\left(x \\right)} = \\left(C_{1} \\sin{\\left(3 x \\right)} + C_{2} \\cos{\\left(3 x \\right)}\\right) e^{4 x}$"
      ],
      "text/plain": [
       "Eq(y(x), (C1*sin(3*x) + C2*cos(3*x))*exp(4*x))"
      ]
     },
     "metadata": {},
     "output_type": "display_data"
    }
   ],
   "source": [
    "eq = sp.Eq(y.diff(x, x) - 8*y.diff(x) + 25*y, 0)\n",
    "\n",
    "display(sp.dsolve(eq))"
   ]
  },
  {
   "cell_type": "code",
   "execution_count": 7,
   "metadata": {},
   "outputs": [
    {
     "data": {
      "text/latex": [
       "$\\displaystyle y{\\left(x \\right)} = \\left(C_{1} + C_{2} x\\right) e^{4 x}$"
      ],
      "text/plain": [
       "Eq(y(x), (C1 + C2*x)*exp(4*x))"
      ]
     },
     "metadata": {},
     "output_type": "display_data"
    }
   ],
   "source": [
    "eq = sp.Eq(y.diff(x, x) - 8*y.diff(x) + 16*y, 0)\n",
    "\n",
    "display(sp.dsolve(eq))"
   ]
  },
  {
   "cell_type": "code",
   "execution_count": 8,
   "metadata": {},
   "outputs": [
    {
     "data": {
      "text/latex": [
       "$\\displaystyle y{\\left(x \\right)} = C_{1} e^{- 3 x} + \\frac{2 x}{3} - \\frac{2}{9}$"
      ],
      "text/plain": [
       "Eq(y(x), C1*exp(-3*x) + 2*x/3 - 2/9)"
      ]
     },
     "metadata": {},
     "output_type": "display_data"
    }
   ],
   "source": [
    "eq = sp.Eq(y.diff(x) + 3*y, 2*x)\n",
    "\n",
    "display(sp.dsolve(eq))"
   ]
  },
  {
   "cell_type": "code",
   "execution_count": 9,
   "metadata": {},
   "outputs": [
    {
     "name": "stdout",
     "output_type": "stream",
     "text": [
      "Solução Geral:\n"
     ]
    },
    {
     "data": {
      "text/latex": [
       "$\\displaystyle y{\\left(x \\right)} = 1 - \\sqrt{C_{1} + x^{3} + 2 x^{2} + 2 x}$"
      ],
      "text/plain": [
       "Eq(y(x), 1 - sqrt(C1 + x**3 + 2*x**2 + 2*x))"
      ]
     },
     "metadata": {},
     "output_type": "display_data"
    },
    {
     "data": {
      "text/latex": [
       "$\\displaystyle y{\\left(x \\right)} = \\sqrt{C_{1} + x^{3} + 2 x^{2} + 2 x} + 1$"
      ],
      "text/plain": [
       "Eq(y(x), sqrt(C1 + x**3 + 2*x**2 + 2*x) + 1)"
      ]
     },
     "metadata": {},
     "output_type": "display_data"
    },
    {
     "name": "stdout",
     "output_type": "stream",
     "text": [
      "Solução com P.V.I.:\n"
     ]
    },
    {
     "data": {
      "text/latex": [
       "$\\displaystyle y{\\left(x \\right)} = 1 - \\sqrt{x^{3} + 2 x^{2} + 2 x + 4}$"
      ],
      "text/plain": [
       "Eq(y(x), 1 - sqrt(x**3 + 2*x**2 + 2*x + 4))"
      ]
     },
     "metadata": {},
     "output_type": "display_data"
    }
   ],
   "source": [
    "eq = sp.Eq(y.diff(x), (3*x**2 + 4*x + 2) / (2*y - 2))\n",
    "\n",
    "pvi = {y.subs(x, 0): -1}\n",
    "\n",
    "func = sp.dsolve(eq, ics=pvi)\n",
    "\n",
    "print('Solução Geral:')\n",
    "display(sp.dsolve(eq)[0])\n",
    "display(sp.dsolve(eq)[1])\n",
    "print('Solução com P.V.I.:')\n",
    "display(func)"
   ]
  },
  {
   "cell_type": "code",
   "execution_count": 10,
   "metadata": {},
   "outputs": [
    {
     "name": "stdout",
     "output_type": "stream",
     "text": [
      "Equação diferencial que modela o fenômeno:\n"
     ]
    },
    {
     "data": {
      "text/latex": [
       "$\\displaystyle \\frac{d}{d x} y{\\left(x \\right)} = r \\left(1 - \\frac{y{\\left(x \\right)}}{k}\\right) y{\\left(x \\right)}$"
      ],
      "text/plain": [
       "Eq(Derivative(y(x), x), r*(1 - y(x)/k)*y(x))"
      ]
     },
     "metadata": {},
     "output_type": "display_data"
    },
    {
     "name": "stdout",
     "output_type": "stream",
     "text": [
      "\n",
      "Solução Geral:\n"
     ]
    },
    {
     "data": {
      "text/latex": [
       "$\\displaystyle y{\\left(x \\right)} = \\frac{k yo e^{r x}}{k + yo e^{r x} - yo}$"
      ],
      "text/plain": [
       "Eq(y(x), k*yo*exp(r*x)/(k + yo*exp(r*x) - yo))"
      ]
     },
     "metadata": {},
     "output_type": "display_data"
    },
    {
     "name": "stdout",
     "output_type": "stream",
     "text": [
      "\n"
     ]
    },
    {
     "data": {
      "image/png": "[encoded data removed]",
      "text/plain": [
       "<Figure size 1000x600 with 1 Axes>"
      ]
     },
     "metadata": {},
     "output_type": "display_data"
    }
   ],
   "source": [
    "#Exemplo de EDO Equação Logística\n",
    "\n",
    "k, r, yo = sp.symbols('k, r, yo')\n",
    "\n",
    "eq = sp.Eq(y.diff(x), r*y*(1 - (y/k)))\n",
    "pvi = {y.subs(x, 0): yo}\n",
    "func = sp.dsolve(eq, ics=pvi)\n",
    "\n",
    "print('Equação diferencial que modela o fenômeno:')\n",
    "display(eq)\n",
    "print('\\nSolução Geral:')\n",
    "display(sp.simplify(func))\n",
    "print()\n",
    "\n",
    "func_num = func.rhs\n",
    "\n",
    "func_num = sp.lambdify((x, k, r, yo), func_num, 'numpy')\n",
    "\n",
    "x_num = linspace(0, 7, 500)\n",
    "k_num = 1e3\n",
    "r_num = 2\n",
    "yo_num = 5\n",
    "\n",
    "func_num = func_num(x_num, k_num, r_num, yo_num)\n",
    "\n",
    "plt.figure(figsize=(10,6))\n",
    "plt.plot(x_num, func_num, label='Crescimento Populacional')\n",
    "plt.xlabel('Tempo')\n",
    "plt.ylabel('População')\n",
    "plt.title('Equação Logística')\n",
    "plt.legend(loc='best', fontsize=12)\n",
    "plt.grid(True)\n",
    "plt.show()\n"
   ]
  },
  {
   "cell_type": "code",
   "execution_count": 11,
   "metadata": {},
   "outputs": [
    {
     "data": {
      "text/latex": [
       "$\\displaystyle - \\frac{d}{d x} y{\\left(x \\right)} = \\frac{2 x + 4 y{\\left(x \\right)} - 5}{4 x + 6 y{\\left(x \\right)} - 1}$"
      ],
      "text/plain": [
       "Eq(-Derivative(y(x), x), (2*x + 4*y(x) - 5)/(4*x + 6*y(x) - 1))"
      ]
     },
     "metadata": {},
     "output_type": "display_data"
    },
    {
     "data": {
      "text/plain": [
       "[Eq(y(x), -2*x/3 - sqrt(C1 + 4*x**2 + 52*x)/6 + 1/6),\n",
       " Eq(y(x), -2*x/3 + sqrt(C1 + 4*x**2 + 52*x)/6 + 1/6)]"
      ]
     },
     "metadata": {},
     "output_type": "display_data"
    },
    {
     "data": {
      "text/latex": [
       "$\\displaystyle y{\\left(x \\right)} = - \\frac{2 x}{3} + \\frac{\\sqrt{4 x^{2} + 52 x + 97}}{6} + \\frac{1}{6}$"
      ],
      "text/plain": [
       "Eq(y(x), -2*x/3 + sqrt(4*x**2 + 52*x + 97)/6 + 1/6)"
      ]
     },
     "metadata": {},
     "output_type": "display_data"
    }
   ],
   "source": [
    "eq = sp.Eq(-y.diff(x), (4*y +2*x - 5)/(6*y + 4*x - 1))\n",
    "pvi = {y.subs(x, -1): 2}\n",
    "\n",
    "display(eq)\n",
    "display(sp.dsolve(eq))\n",
    "display(sp.dsolve(eq, ics=pvi))"
   ]
  },
  {
   "cell_type": "code",
   "execution_count": 12,
   "metadata": {},
   "outputs": [
    {
     "name": "stdout",
     "output_type": "stream",
     "text": [
      "A equação é exata\n"
     ]
    },
    {
     "data": {
      "text/latex": [
       "$\\displaystyle - \\frac{2 x}{3} - \\frac{\\sqrt{4 x^{2} + 52 x + 36 y^{2}{\\left(-1 \\right)} - 60 y{\\left(-1 \\right)} + 73}}{6} + \\frac{1}{6}$"
      ],
      "text/plain": [
       "-2*x/3 - sqrt(4*x**2 + 52*x + 36*y(-1)**2 - 60*y(-1) + 73)/6 + 1/6"
      ]
     },
     "metadata": {},
     "output_type": "display_data"
    }
   ],
   "source": [
    "# Definir as variáveis e funções simbólicas\n",
    "x, y = sp.symbols('x y')\n",
    "C1 = sp.symbols('C1')\n",
    "y_func = sp.Function('y')(x)\n",
    "\n",
    "# Definir a equação diferencial\n",
    "M = 4*y + 2*x - 5\n",
    "N = 6*y + 4*x - 1\n",
    "\n",
    "# Verificar se a equação é exata\n",
    "dM_dy = sp.diff(M, y)\n",
    "dN_dx = sp.diff(N, x)\n",
    "\n",
    "if dM_dy == dN_dx:\n",
    "    print(\"A equação é exata\")\n",
    "    \n",
    "    # Encontrar a função F(x, y)\n",
    "    F = sp.integrate(M, x) + sp.integrate(N - sp.diff(sp.integrate(M, x), y), y) + C1\n",
    "    \n",
    "    # Resolver para C1 usando a condição inicial y(-1) = 2\n",
    "    F = F.subs(y, y_func)\n",
    "    C1_value = sp.solve(F.subs([(x, -1), (y_func, 2)]), C1)[0]\n",
    "    \n",
    "    # Substituir o valor de C1 na solução geral\n",
    "    F = F.subs(C1, C1_value)\n",
    "    \n",
    "    # Resolver a equação implícita para y(x)\n",
    "    solution = sp.solve(F, y_func)\n",
    "    \n",
    "    # Exibir a solução particular\n",
    "    display(solution[0])\n",
    "else:\n",
    "    print(\"A equação não é exata e requer outro método para ser resolvida\")\n"
   ]
  },
  {
   "cell_type": "code",
   "execution_count": 13,
   "metadata": {},
   "outputs": [
    {
     "data": {
      "text/latex": [
       "$\\displaystyle 3 Y^{2} + 4 Y x - Y + x^{2} - 5 x = 8$"
      ],
      "text/plain": [
       "Eq(3*Y**2 + 4*Y*x - Y + x**2 - 5*x, 8)"
      ]
     },
     "metadata": {},
     "output_type": "display_data"
    },
    {
     "data": {
      "text/latex": [
       "$\\displaystyle - \\frac{2 x}{3} - \\frac{\\sqrt{4 x^{2} + 52 x + 97}}{6} + \\frac{1}{6}$"
      ],
      "text/plain": [
       "-2*x/3 - sqrt(4*x**2 + 52*x + 97)/6 + 1/6"
      ]
     },
     "metadata": {},
     "output_type": "display_data"
    },
    {
     "data": {
      "text/latex": [
       "$\\displaystyle - \\frac{2 x}{3} + \\frac{\\sqrt{4 x^{2} + 52 x + 97}}{6} + \\frac{1}{6}$"
      ],
      "text/plain": [
       "-2*x/3 + sqrt(4*x**2 + 52*x + 97)/6 + 1/6"
      ]
     },
     "metadata": {},
     "output_type": "display_data"
    }
   ],
   "source": [
    "Y = sp.symbols('Y')\n",
    "eq = sp.Eq(4*Y*x + x**2 - 5*x + 3*Y**2 - Y, 8)\n",
    "display(eq)\n",
    "display(sp.solve(eq, Y)[0])\n",
    "display(sp.solve(eq, Y)[1])"
   ]
  }
 ],
 "metadata": {
  "kernelspec": {
   "display_name": "Python 3",
   "language": "python",
   "name": "python3"
  },
  "language_info": {
   "codemirror_mode": {
    "name": "ipython",
    "version": 3
   },
   "file_extension": ".py",
   "mimetype": "text/x-python",
   "name": "python",
   "nbconvert_exporter": "python",
   "pygments_lexer": "ipython3",
   "version": "3.11.9"
  }
 },
 "nbformat": 4,
 "nbformat_minor": 2
}
